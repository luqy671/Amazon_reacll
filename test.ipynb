{
 "cells": [
  {
   "cell_type": "code",
   "execution_count": 1,
   "id": "recovered-anime",
   "metadata": {},
   "outputs": [],
   "source": [
    "import torch"
   ]
  },
  {
   "cell_type": "code",
   "execution_count": 36,
   "id": "derived-costs",
   "metadata": {},
   "outputs": [],
   "source": [
    "batch = 2\n",
    "intere_num = 3\n",
    "num = 4\n",
    "embed_dim = 5\n",
    "Candidate_num = 10\n",
    "indicex_K = torch.randint(0,Candidate_num,[batch,intere_num])\n",
    "item_embeds = torch.randn(batch,num,embed_dim)\n",
    "Candidate_pool = torch.randn(Candidate_num, embed_dim)\n",
    "state_matrix = torch.randn(Candidate_num, Candidate_num)"
   ]
  },
  {
   "cell_type": "code",
   "execution_count": 38,
   "id": "adjusted-spell",
   "metadata": {},
   "outputs": [
    {
     "name": "stdout",
     "output_type": "stream",
     "text": [
      "indicex_K\n",
      "tensor([[3, 6, 9],\n",
      "        [5, 2, 1]])\n",
      "item_embeds\n",
      "tensor([[[ 0.7193,  0.6754,  2.0429,  0.2715,  0.3861],\n",
      "         [ 1.3963,  1.6430,  0.3876, -0.3496, -0.0214],\n",
      "         [-0.2215, -0.0318, -0.4582, -0.9384, -0.1939],\n",
      "         [ 0.1414, -1.5775,  1.1119, -0.9933, -0.9798]],\n",
      "\n",
      "        [[ 0.4813,  1.1338,  1.1965, -0.1071, -0.5052],\n",
      "         [ 0.3751, -0.3792,  0.0373,  0.1905, -0.9154],\n",
      "         [ 0.1515,  2.0769,  0.2994, -0.4514, -0.1479],\n",
      "         [ 0.5569, -0.3140,  0.4510,  0.7239, -0.1481]]])\n",
      "Candidate_pool\n",
      "tensor([[-0.7642, -0.7364, -0.7309, -1.3110, -2.3264],\n",
      "        [-0.1302, -0.1418, -0.5042,  0.9560, -0.9158],\n",
      "        [ 0.2901,  1.9039, -1.7933, -0.9856,  0.7402],\n",
      "        [ 0.0398,  0.7728,  0.6016, -0.0664, -1.4816],\n",
      "        [-2.2647,  0.0117,  0.8231,  1.8155,  0.9940],\n",
      "        [ 0.9039, -1.0636,  1.8002,  1.1506, -1.7046],\n",
      "        [-0.1681, -0.7014, -0.7217, -0.5581, -1.2023],\n",
      "        [ 0.1384, -0.3642, -0.7467,  0.0617, -0.2390],\n",
      "        [-0.8786,  1.5281,  0.7354,  1.9434, -0.0680],\n",
      "        [ 0.8960,  0.9630, -0.2733, -1.3959,  2.2242]])\n",
      "state_matrix\n",
      "tensor([[ 6.8299e-02,  5.7508e-01, -1.2820e+00,  6.4395e-02,  1.8968e+00,\n",
      "         -1.2846e+00,  1.0608e+00,  4.5795e-01,  1.4174e+00,  6.4647e-01],\n",
      "        [-5.8646e-01,  1.4243e+00, -9.4270e-01, -5.5599e-01, -2.2090e-01,\n",
      "          1.1653e+00,  2.3301e-03, -2.7349e-01,  5.8669e-01,  8.4634e-01],\n",
      "        [ 1.5920e-01, -2.3689e-02, -8.3338e-02, -1.8882e-01,  1.4914e+00,\n",
      "          3.1980e-01, -3.9737e-02, -8.6135e-01, -3.7312e-01, -4.6444e-01],\n",
      "        [-2.2824e-01, -1.4158e+00, -8.5598e-01, -7.4889e-01, -1.0114e+00,\n",
      "         -2.1436e-01, -5.3469e-01, -8.1748e-01, -6.9070e-02,  2.8400e-01],\n",
      "        [ 9.6710e-02,  1.8507e-01,  1.1284e-02,  8.0998e-01, -2.4826e-01,\n",
      "          3.4129e-01,  8.5024e-01,  2.5453e-01,  3.4484e-01,  1.7258e-01],\n",
      "        [ 2.3552e+00,  2.3755e+00,  2.2032e-01,  9.5966e-01, -3.3365e-01,\n",
      "          6.0496e-01,  3.3549e-01, -7.4797e-01,  4.7771e-01, -1.4951e+00],\n",
      "        [-1.5451e-01,  1.0740e+00,  9.8579e-02, -7.1930e-01, -5.3877e-01,\n",
      "          6.5810e-02,  9.0092e-01, -1.5761e+00, -1.3313e-01, -7.0313e-01],\n",
      "        [ 7.0073e-01, -6.8543e-01, -3.7872e-01,  1.1865e+00, -1.4199e-01,\n",
      "         -9.4546e-01, -2.2829e+00, -6.8651e-01, -1.2098e+00, -7.4237e-01],\n",
      "        [ 5.4978e-01,  1.7458e+00, -3.7406e-01,  1.6720e+00,  1.9968e-01,\n",
      "          7.6675e-01, -5.7476e-01,  2.6803e-01,  2.4702e-01,  1.3951e+00],\n",
      "        [-1.8496e+00,  2.2998e+00,  1.3435e+00, -1.9336e-01,  6.3083e-02,\n",
      "          1.3337e+00,  2.1981e+00, -3.0835e-01, -1.2062e+00,  1.3138e-01]])\n"
     ]
    }
   ],
   "source": [
    "print(\"indicex_K\")\n",
    "print(indicex_K)\n",
    "print(\"item_embeds\")\n",
    "print(item_embeds)\n",
    "print(\"Candidate_pool\")\n",
    "print(Candidate_pool)\n",
    "print(\"state_matrix\")\n",
    "print(state_matrix)"
   ]
  },
  {
   "cell_type": "code",
   "execution_count": 47,
   "id": "sustained-arbitration",
   "metadata": {},
   "outputs": [],
   "source": [
    "batch = item_embeds.shape[0]\n",
    "num = item_embeds.shape[1]"
   ]
  },
  {
   "cell_type": "code",
   "execution_count": 55,
   "id": "extended-cruise",
   "metadata": {},
   "outputs": [
    {
     "data": {
      "text/plain": [
       "tensor([[[-3.7942, -1.3134, -2.1508,  1.1895,  0.9372,  3.2637, -2.6846,\n",
       "          -1.7474,  2.4039,  1.2161],\n",
       "         [-2.0521, -0.9248,  3.1668,  1.6133, -3.4798, -0.1534, -1.4460,\n",
       "          -0.7109,  0.8909,  3.1677],\n",
       "         [ 2.2088, -0.4552,  1.4783,  0.0406, -1.7721, -1.7404,  1.1470,\n",
       "           0.3115, -2.0014,  0.7748],\n",
       "         [ 3.8225, -0.4078, -4.7025,  0.9731, -2.2006,  4.3345,  2.0126,\n",
       "          -0.0633, -3.5809, -2.4889]],\n",
       "\n",
       "        [[-0.7614, -0.4664, -0.1158,  2.3707, -0.7884,  2.1209, -1.0724,\n",
       "          -1.1255,  2.0158,  0.2218],\n",
       "         [ 1.8452,  1.0065, -1.5454,  1.0879, -1.3873,  2.5890,  1.1703,\n",
       "           0.3928, -0.4492, -2.3412],\n",
       "         [-0.9282, -0.7612,  3.7966,  2.0402, -1.0388, -1.8003, -1.2685,\n",
       "          -0.9514,  2.3935,  2.3550],\n",
       "         [-1.1286,  0.5723, -2.0683,  0.2220,  0.2736,  2.7346, -0.4249,\n",
       "          -0.0652,  0.7795, -1.2666]]])"
      ]
     },
     "execution_count": 55,
     "metadata": {},
     "output_type": "execute_result"
    }
   ],
   "source": [
    "# 计算每个embedding与Candidate_pool中vec的相似度\n",
    "Candidate_sim_score = torch.einsum('ijd, kd -> ijk', item_embeds, Candidate_pool) #[batch,num,Candidate_num]\n",
    "Candidate_sim_score"
   ]
  },
  {
   "cell_type": "code",
   "execution_count": 56,
   "id": "competitive-thickness",
   "metadata": {},
   "outputs": [
    {
     "data": {
      "text/plain": [
       "(tensor([[[ 3.2637,  2.4039,  1.2161,  1.1895,  0.9372, -1.3134, -1.7474,\n",
       "           -2.1508, -2.6846, -3.7942],\n",
       "          [ 3.1677,  3.1668,  1.6133,  0.8909, -0.1534, -0.7109, -0.9248,\n",
       "           -1.4460, -2.0521, -3.4798],\n",
       "          [ 2.2088,  1.4783,  1.1470,  0.7748,  0.3115,  0.0406, -0.4552,\n",
       "           -1.7404, -1.7721, -2.0014],\n",
       "          [ 4.3345,  3.8225,  2.0126,  0.9731, -0.0633, -0.4078, -2.2006,\n",
       "           -2.4889, -3.5809, -4.7025]],\n",
       " \n",
       "         [[ 2.3707,  2.1209,  2.0158,  0.2218, -0.1158, -0.4664, -0.7614,\n",
       "           -0.7884, -1.0724, -1.1255],\n",
       "          [ 2.5890,  1.8452,  1.1703,  1.0879,  1.0065,  0.3928, -0.4492,\n",
       "           -1.3873, -1.5454, -2.3412],\n",
       "          [ 3.7966,  2.3935,  2.3550,  2.0402, -0.7612, -0.9282, -0.9514,\n",
       "           -1.0388, -1.2685, -1.8003],\n",
       "          [ 2.7346,  0.7795,  0.5723,  0.2736,  0.2220, -0.0652, -0.4249,\n",
       "           -1.1286, -1.2666, -2.0683]]]),\n",
       " tensor([[[5, 8, 9, 3, 4, 1, 7, 2, 6, 0],\n",
       "          [9, 2, 3, 8, 5, 7, 1, 6, 0, 4],\n",
       "          [0, 2, 6, 9, 7, 3, 1, 5, 4, 8],\n",
       "          [5, 0, 6, 3, 7, 1, 4, 9, 8, 2]],\n",
       " \n",
       "         [[3, 5, 8, 9, 2, 1, 0, 4, 6, 7],\n",
       "          [5, 0, 6, 3, 1, 7, 8, 4, 2, 9],\n",
       "          [2, 8, 9, 3, 1, 0, 7, 4, 6, 5],\n",
       "          [5, 8, 1, 4, 3, 7, 6, 0, 9, 2]]]))"
      ]
     },
     "execution_count": 56,
     "metadata": {},
     "output_type": "execute_result"
    }
   ],
   "source": [
    "# 对每个batch内的得分，降序排列\n",
    "sorted_score, indices = torch.sort(Candidate_sim_score, descending = True)  #[batch, num,Candidate_num]\n",
    "sorted_score,indices"
   ]
  },
  {
   "cell_type": "code",
   "execution_count": 57,
   "id": "smaller-joining",
   "metadata": {},
   "outputs": [
    {
     "data": {
      "text/plain": [
       "tensor([[5, 9, 0, 5],\n",
       "        [3, 5, 2, 5]])"
      ]
     },
     "execution_count": 57,
     "metadata": {},
     "output_type": "execute_result"
    }
   ],
   "source": [
    "# 取 top 1\n",
    "indices_top = indices[:, : , 0]  #[batch, num] \n",
    "indices_top"
   ]
  },
  {
   "cell_type": "code",
   "execution_count": 58,
   "id": "afraid-return",
   "metadata": {},
   "outputs": [
    {
     "data": {
      "text/plain": [
       "(tensor([[5, 5, 5, 9, 9, 9, 0, 0, 0, 5, 5, 5],\n",
       "         [3, 3, 3, 5, 5, 5, 2, 2, 2, 5, 5, 5]]),\n",
       " tensor([[3, 6, 9, 3, 6, 9, 3, 6, 9, 3, 6, 9],\n",
       "         [5, 2, 1, 5, 2, 1, 5, 2, 1, 5, 2, 1]]))"
      ]
     },
     "execution_count": 58,
     "metadata": {},
     "output_type": "execute_result"
    }
   ],
   "source": [
    "x = indices_top.unsqueeze(-1).repeat(1,1,1,intere_num).reshape(batch,-1)\n",
    "y = indicex_K.repeat(1,1,num).reshape(batch,-1)\n",
    "x,y"
   ]
  },
  {
   "cell_type": "code",
   "execution_count": 59,
   "id": "color-greene",
   "metadata": {},
   "outputs": [
    {
     "data": {
      "text/plain": [
       "[[tensor([5, 5, 5, 9, 9, 9, 0, 0, 0, 5, 5, 5]),\n",
       "  tensor([3, 6, 9, 3, 6, 9, 3, 6, 9, 3, 6, 9])],\n",
       " [tensor([3, 3, 3, 5, 5, 5, 2, 2, 2, 5, 5, 5]),\n",
       "  tensor([5, 2, 1, 5, 2, 1, 5, 2, 1, 5, 2, 1])]]"
      ]
     },
     "execution_count": 59,
     "metadata": {},
     "output_type": "execute_result"
    }
   ],
   "source": [
    "coordinate = [[a,b] for a,b in zip(x, y)]\n",
    "coordinate"
   ]
  },
  {
   "cell_type": "code",
   "execution_count": 53,
   "id": "cross-double",
   "metadata": {},
   "outputs": [],
   "source": [
    "crf_score = torch.cat([state_matrix[co].reshape(num,-1).sum(dim=-1) for co in coordinate]).reshape(batch,-1) #[batch,num]"
   ]
  },
  {
   "cell_type": "code",
   "execution_count": 54,
   "id": "minus-malta",
   "metadata": {},
   "outputs": [
    {
     "data": {
      "text/plain": [
       "torch.Size([2, 4])"
      ]
     },
     "execution_count": 54,
     "metadata": {},
     "output_type": "execute_result"
    }
   ],
   "source": [
    "crf_score.shape"
   ]
  },
  {
   "cell_type": "code",
   "execution_count": null,
   "id": "unnecessary-dakota",
   "metadata": {},
   "outputs": [],
   "source": []
  }
 ],
 "metadata": {
  "kernelspec": {
   "display_name": "myenv",
   "language": "python",
   "name": "myenv"
  },
  "language_info": {
   "codemirror_mode": {
    "name": "ipython",
    "version": 3
   },
   "file_extension": ".py",
   "mimetype": "text/x-python",
   "name": "python",
   "nbconvert_exporter": "python",
   "pygments_lexer": "ipython3",
   "version": "3.6.13"
  }
 },
 "nbformat": 4,
 "nbformat_minor": 5
}
