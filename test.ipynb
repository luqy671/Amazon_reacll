{
 "cells": [
  {
   "cell_type": "code",
   "execution_count": 2,
   "id": "incomplete-organ",
   "metadata": {},
   "outputs": [],
   "source": [
    "from utils import Data_Read\n",
    "from Config import Config\n",
    "config = Config()\n",
    "config.datasetInfo()"
   ]
  },
  {
   "cell_type": "code",
   "execution_count": 3,
   "id": "worse-conditions",
   "metadata": {},
   "outputs": [],
   "source": [
    "train_lists, test_x, test_y = Data_Read(config)"
   ]
  },
  {
   "cell_type": "code",
   "execution_count": 6,
   "id": "worthy-intermediate",
   "metadata": {},
   "outputs": [
    {
     "data": {
      "text/plain": [
       "array([[25909, 38756, 44804, 54540, 56212, 39989],\n",
       "       [56212, 38756,  2890, 44804, 47381, 54540],\n",
       "       [47381, 25909,  2890, 44804, 54540, 56212],\n",
       "       ...,\n",
       "       [32544, 41386, 18642, 60271, 18701, 37261],\n",
       "       [60476, 37225, 47386, 13732, 46591,  1391],\n",
       "       [25794, 60468, 33344, 34858, 13382, 42266]])"
      ]
     },
     "execution_count": 6,
     "metadata": {},
     "output_type": "execute_result"
    }
   ],
   "source": [
    "train_lists[1]"
   ]
  },
  {
   "cell_type": "code",
   "execution_count": 8,
   "id": "floppy-output",
   "metadata": {},
   "outputs": [
    {
     "data": {
      "text/plain": [
       "array([38756, 47381, 25909, 54540,  2890, 44804, 56212])"
      ]
     },
     "execution_count": 8,
     "metadata": {},
     "output_type": "execute_result"
    }
   ],
   "source": [
    "seq = train_lists[2][2]\n",
    "seq"
   ]
  },
  {
   "cell_type": "code",
   "execution_count": 20,
   "id": "theoretical-victim",
   "metadata": {},
   "outputs": [
    {
     "data": {
      "text/plain": [
       "[0, 1, 2, 3, 4, 5]"
      ]
     },
     "execution_count": 20,
     "metadata": {},
     "output_type": "execute_result"
    }
   ],
   "source": [
    "seq = [x for x in range(6)]\n",
    "seq"
   ]
  },
  {
   "cell_type": "code",
   "execution_count": 21,
   "id": "obvious-acrylic",
   "metadata": {},
   "outputs": [],
   "source": [
    "window = 4"
   ]
  },
  {
   "cell_type": "code",
   "execution_count": 22,
   "id": "realistic-addition",
   "metadata": {},
   "outputs": [
    {
     "name": "stdout",
     "output_type": "stream",
     "text": [
      "1 0 \n",
      "2 1 \n",
      "2 0 \n",
      "3 2 \n",
      "3 1 \n",
      "3 0 \n",
      "4 3 \n",
      "4 2 \n",
      "4 1 \n",
      "4 0 \n",
      "5 4 \n",
      "5 3 \n",
      "5 2 \n",
      "5 1 \n"
     ]
    }
   ],
   "source": [
    "for i, item in enumerate(seq):\n",
    "    if i>0:\n",
    "        l = min(i,window)\n",
    "        for j in range(l):\n",
    "            print(\"{} {} \".format(item,seq[i-1-j]))\n",
    "        "
   ]
  },
  {
   "cell_type": "code",
   "execution_count": 23,
   "id": "industrial-daisy",
   "metadata": {},
   "outputs": [],
   "source": [
    "import torch\n",
    "import torch.nn as nn\n",
    "import torch.nn.functional as F"
   ]
  },
  {
   "cell_type": "code",
   "execution_count": 24,
   "id": "entertaining-shirt",
   "metadata": {},
   "outputs": [],
   "source": [
    "embed_layer = nn.Embedding(4,10)"
   ]
  },
  {
   "cell_type": "code",
   "execution_count": 31,
   "id": "distinguished-perth",
   "metadata": {},
   "outputs": [],
   "source": [
    "e1 = embed_layer(torch.tensor(1))\n",
    "e2 = embed_layer(torch.tensor(2))"
   ]
  },
  {
   "cell_type": "code",
   "execution_count": 35,
   "id": "expensive-active",
   "metadata": {},
   "outputs": [
    {
     "data": {
      "text/plain": [
       "(tensor([-0.0404,  1.0936, -1.1947, -0.0090,  0.9085,  0.6575, -0.4485,  1.6211,\n",
       "         -1.2566, -0.1157], grad_fn=<EmbeddingBackward>),\n",
       " tensor([-0.9740,  0.2802,  0.3881,  1.9925,  0.3055, -1.8050, -0.0507,  0.7508,\n",
       "          0.9224,  0.2238], grad_fn=<EmbeddingBackward>))"
      ]
     },
     "execution_count": 35,
     "metadata": {},
     "output_type": "execute_result"
    }
   ],
   "source": [
    "e1,e2"
   ]
  },
  {
   "cell_type": "code",
   "execution_count": 36,
   "id": "exceptional-denial",
   "metadata": {},
   "outputs": [],
   "source": [
    "e1=torch.tensor([2,3,4,5])\n",
    "e2=torch.tensor([1,0,0,1])"
   ]
  },
  {
   "cell_type": "code",
   "execution_count": 37,
   "id": "jewish-relation",
   "metadata": {},
   "outputs": [
    {
     "data": {
      "text/plain": [
       "tensor(7)"
      ]
     },
     "execution_count": 37,
     "metadata": {},
     "output_type": "execute_result"
    }
   ],
   "source": [
    "torch.einsum(\"i,i\",e1,e2)"
   ]
  },
  {
   "cell_type": "code",
   "execution_count": 42,
   "id": "comic-charles",
   "metadata": {},
   "outputs": [
    {
     "data": {
      "text/plain": [
       "tensor(1.)"
      ]
     },
     "execution_count": 42,
     "metadata": {},
     "output_type": "execute_result"
    }
   ],
   "source": [
    "torch.tensor(1.)"
   ]
  },
  {
   "cell_type": "code",
   "execution_count": 56,
   "id": "bearing-owner",
   "metadata": {},
   "outputs": [],
   "source": [
    "co_bias = nn.Parameter(torch.randn(10))"
   ]
  },
  {
   "cell_type": "code",
   "execution_count": 57,
   "id": "sorted-contribution",
   "metadata": {},
   "outputs": [
    {
     "data": {
      "text/plain": [
       "Parameter containing:\n",
       "tensor([ 0.2929, -0.6695,  1.0150, -0.1858, -0.1017,  0.0922,  1.7807,  0.0423,\n",
       "        -0.2277, -2.7700], requires_grad=True)"
      ]
     },
     "execution_count": 57,
     "metadata": {},
     "output_type": "execute_result"
    }
   ],
   "source": [
    "co_bias"
   ]
  },
  {
   "cell_type": "code",
   "execution_count": 58,
   "id": "limited-vietnamese",
   "metadata": {},
   "outputs": [
    {
     "data": {
      "text/plain": [
       "tensor([[ 0.2929, -0.6695,  1.0150, -0.1858, -0.1017,  0.0922,  1.7807,  0.0423,\n",
       "         -0.2277, -2.7700],\n",
       "        [ 0.2929, -0.6695,  1.0150, -0.1858, -0.1017,  0.0922,  1.7807,  0.0423,\n",
       "         -0.2277, -2.7700],\n",
       "        [ 0.2929, -0.6695,  1.0150, -0.1858, -0.1017,  0.0922,  1.7807,  0.0423,\n",
       "         -0.2277, -2.7700],\n",
       "        [ 0.2929, -0.6695,  1.0150, -0.1858, -0.1017,  0.0922,  1.7807,  0.0423,\n",
       "         -0.2277, -2.7700],\n",
       "        [ 0.2929, -0.6695,  1.0150, -0.1858, -0.1017,  0.0922,  1.7807,  0.0423,\n",
       "         -0.2277, -2.7700]], grad_fn=<RepeatBackward>)"
      ]
     },
     "execution_count": 58,
     "metadata": {},
     "output_type": "execute_result"
    }
   ],
   "source": [
    "co_bias.repeat(5,1)"
   ]
  },
  {
   "cell_type": "code",
   "execution_count": 59,
   "id": "adverse-liabilities",
   "metadata": {},
   "outputs": [
    {
     "data": {
      "text/plain": [
       "tensor([[ 0.2929,  0.2929,  0.2929,  0.2929,  0.2929],\n",
       "        [-0.6695, -0.6695, -0.6695, -0.6695, -0.6695],\n",
       "        [ 1.0150,  1.0150,  1.0150,  1.0150,  1.0150],\n",
       "        [-0.1858, -0.1858, -0.1858, -0.1858, -0.1858],\n",
       "        [-0.1017, -0.1017, -0.1017, -0.1017, -0.1017],\n",
       "        [ 0.0922,  0.0922,  0.0922,  0.0922,  0.0922],\n",
       "        [ 1.7807,  1.7807,  1.7807,  1.7807,  1.7807],\n",
       "        [ 0.0423,  0.0423,  0.0423,  0.0423,  0.0423],\n",
       "        [-0.2277, -0.2277, -0.2277, -0.2277, -0.2277],\n",
       "        [-2.7700, -2.7700, -2.7700, -2.7700, -2.7700]],\n",
       "       grad_fn=<TransposeBackward0>)"
      ]
     },
     "execution_count": 59,
     "metadata": {},
     "output_type": "execute_result"
    }
   ],
   "source": [
    "co_bias.repeat(5,1).transpose(0,1)"
   ]
  },
  {
   "cell_type": "code",
   "execution_count": null,
   "id": "committed-bristol",
   "metadata": {},
   "outputs": [],
   "source": []
  },
  {
   "cell_type": "code",
   "execution_count": 49,
   "id": "opened-drunk",
   "metadata": {},
   "outputs": [
    {
     "data": {
      "text/plain": [
       "torch.nn.parameter.Parameter"
      ]
     },
     "execution_count": 49,
     "metadata": {},
     "output_type": "execute_result"
    }
   ],
   "source": [
    "type(embed_layer.weight)"
   ]
  },
  {
   "cell_type": "code",
   "execution_count": 50,
   "id": "careful-consistency",
   "metadata": {},
   "outputs": [
    {
     "data": {
      "text/plain": [
       "torch.nn.parameter.Parameter"
      ]
     },
     "execution_count": 50,
     "metadata": {},
     "output_type": "execute_result"
    }
   ],
   "source": [
    "type(co_bias)"
   ]
  },
  {
   "cell_type": "code",
   "execution_count": 61,
   "id": "dressed-relations",
   "metadata": {},
   "outputs": [],
   "source": [
    "import numpy as np"
   ]
  },
  {
   "cell_type": "code",
   "execution_count": 62,
   "id": "federal-coffee",
   "metadata": {},
   "outputs": [
    {
     "data": {
      "text/plain": [
       "array([[0.67133267, 0.70346716, 0.54755072, 0.60374291],\n",
       "       [0.12035645, 0.4792099 , 0.06570049, 0.91839773],\n",
       "       [0.37675805, 0.46255179, 0.68269883, 0.43839234],\n",
       "       [0.12081551, 0.15161369, 0.97321902, 0.8758381 ]])"
      ]
     },
     "execution_count": 62,
     "metadata": {},
     "output_type": "execute_result"
    }
   ],
   "source": [
    "matr = np.random.rand(4,4)\n",
    "m = 0.5\n",
    "matr"
   ]
  },
  {
   "cell_type": "code",
   "execution_count": 63,
   "id": "narrow-locator",
   "metadata": {},
   "outputs": [
    {
     "ename": "ValueError",
     "evalue": "The truth value of an array with more than one element is ambiguous. Use a.any() or a.all()",
     "output_type": "error",
     "traceback": [
      "\u001b[0;31m---------------------------------------------------------------------------\u001b[0m",
      "\u001b[0;31mValueError\u001b[0m                                Traceback (most recent call last)",
      "\u001b[0;32m<ipython-input-63-5ae58bef058d>\u001b[0m in \u001b[0;36m<module>\u001b[0;34m()\u001b[0m\n\u001b[0;32m----> 1\u001b[0;31m \u001b[0mmin\u001b[0m\u001b[0;34m(\u001b[0m\u001b[0;36m1.0\u001b[0m\u001b[0;34m,\u001b[0m \u001b[0mmatr\u001b[0m\u001b[0;34m/\u001b[0m\u001b[0mm\u001b[0m\u001b[0;34m)\u001b[0m\u001b[0;34m\u001b[0m\u001b[0;34m\u001b[0m\u001b[0m\n\u001b[0m",
      "\u001b[0;31mValueError\u001b[0m: The truth value of an array with more than one element is ambiguous. Use a.any() or a.all()"
     ]
    }
   ],
   "source": [
    "min(1.0, matr/m)"
   ]
  },
  {
   "cell_type": "code",
   "execution_count": 67,
   "id": "excessive-harassment",
   "metadata": {},
   "outputs": [
    {
     "data": {
      "text/plain": [
       "(array([[1.34266534, 1.40693432, 1.09510145, 1.20748582],\n",
       "        [0.2407129 , 0.9584198 , 0.13140099, 1.83679546],\n",
       "        [0.75351611, 0.92510359, 1.36539767, 0.87678468],\n",
       "        [0.24163101, 0.30322739, 1.94643803, 1.75167621]]),\n",
       " array([[1.        , 1.        , 1.        , 1.        ],\n",
       "        [0.2407129 , 0.9584198 , 0.13140099, 1.        ],\n",
       "        [0.75351611, 0.92510359, 1.        , 0.87678468],\n",
       "        [0.24163101, 0.30322739, 1.        , 1.        ]]))"
      ]
     },
     "execution_count": 67,
     "metadata": {},
     "output_type": "execute_result"
    }
   ],
   "source": [
    "(matr/m),np.clip((matr/m),a_min=0, a_max=1.0)"
   ]
  },
  {
   "cell_type": "code",
   "execution_count": 68,
   "id": "working-basis",
   "metadata": {},
   "outputs": [],
   "source": [
    "np1 = np.array([[1,1],[1,0]])\n",
    "np2 = np.array([[1,2],[3,4]])\n",
    "ten1 = torch.tensor([[1,2],[3,4]])"
   ]
  },
  {
   "cell_type": "code",
   "execution_count": 71,
   "id": "romance-feelings",
   "metadata": {},
   "outputs": [
    {
     "ename": "TypeError",
     "evalue": "unsupported operand type(s) for +: 'numpy.ndarray' and 'Tensor'",
     "output_type": "error",
     "traceback": [
      "\u001b[0;31m---------------------------------------------------------------------------\u001b[0m",
      "\u001b[0;31mTypeError\u001b[0m                                 Traceback (most recent call last)",
      "\u001b[0;32m<ipython-input-71-0d49858841e4>\u001b[0m in \u001b[0;36m<module>\u001b[0;34m()\u001b[0m\n\u001b[0;32m----> 1\u001b[0;31m \u001b[0mnp1\u001b[0m\u001b[0;34m+\u001b[0m\u001b[0mten1\u001b[0m\u001b[0;34m\u001b[0m\u001b[0;34m\u001b[0m\u001b[0m\n\u001b[0m",
      "\u001b[0;31mTypeError\u001b[0m: unsupported operand type(s) for +: 'numpy.ndarray' and 'Tensor'"
     ]
    }
   ],
   "source": [
    "np1+ten1"
   ]
  },
  {
   "cell_type": "code",
   "execution_count": 73,
   "id": "metallic-resistance",
   "metadata": {},
   "outputs": [
    {
     "data": {
      "text/plain": [
       "float"
      ]
     },
     "execution_count": 73,
     "metadata": {},
     "output_type": "execute_result"
    }
   ],
   "source": [
    "type(min(torch.tensor(1.0), 0.5))"
   ]
  },
  {
   "cell_type": "code",
   "execution_count": 74,
   "id": "viral-stadium",
   "metadata": {},
   "outputs": [
    {
     "data": {
      "text/plain": [
       "tensor([[ 1,  4],\n",
       "        [ 9, 16]])"
      ]
     },
     "execution_count": 74,
     "metadata": {},
     "output_type": "execute_result"
    }
   ],
   "source": [
    "ten1.pow(2)"
   ]
  },
  {
   "cell_type": "code",
   "execution_count": null,
   "id": "prescribed-subscription",
   "metadata": {},
   "outputs": [],
   "source": []
  },
  {
   "cell_type": "code",
   "execution_count": null,
   "id": "hawaiian-stationery",
   "metadata": {},
   "outputs": [],
   "source": []
  },
  {
   "cell_type": "code",
   "execution_count": 84,
   "id": "finite-northern",
   "metadata": {},
   "outputs": [
    {
     "data": {
      "text/plain": [
       "(array([[1, 2, 3],\n",
       "        [2, 3, 4],\n",
       "        [5, 3, 1]]), Parameter containing:\n",
       " tensor([-0.8213, -0.7490,  0.4412], requires_grad=True))"
      ]
     },
     "execution_count": 84,
     "metadata": {},
     "output_type": "execute_result"
    }
   ],
   "source": [
    "co_matrix = np.array([[1,2,3],[2,3,4],[5,3,1]])\n",
    "co_bias = nn.Parameter(torch.randn(3)) \n",
    "co_matrix,co_bias"
   ]
  },
  {
   "cell_type": "code",
   "execution_count": 85,
   "id": "miniature-argentina",
   "metadata": {},
   "outputs": [
    {
     "data": {
      "text/plain": [
       "Parameter containing:\n",
       "tensor([[ 0.3796, -1.7199,  1.4499, -0.0999, -0.0561],\n",
       "        [ 1.0369,  0.9192, -0.2725, -0.5627,  1.7717],\n",
       "        [-0.9230, -0.5910,  0.0739, -0.7949,  0.1797]], requires_grad=True)"
      ]
     },
     "execution_count": 85,
     "metadata": {},
     "output_type": "execute_result"
    }
   ],
   "source": [
    "item_embed = nn.Embedding(3,5)\n",
    "item_embed.weight"
   ]
  },
  {
   "cell_type": "code",
   "execution_count": 86,
   "id": "emotional-developer",
   "metadata": {},
   "outputs": [],
   "source": [
    "embed_sim = torch.einsum(\"ik,jk -> ij\",item_embed.weight,item_embed.weight) "
   ]
  },
  {
   "cell_type": "code",
   "execution_count": 87,
   "id": "acute-palestine",
   "metadata": {},
   "outputs": [
    {
     "data": {
      "text/plain": [
       "tensor([[ 5.2176, -1.6257,  0.8425],\n",
       "        [-1.6257,  5.4499, -0.7547],\n",
       "        [ 0.8425, -0.7547,  1.8708]], grad_fn=<ViewBackward>)"
      ]
     },
     "execution_count": 87,
     "metadata": {},
     "output_type": "execute_result"
    }
   ],
   "source": [
    "embed_sim"
   ]
  },
  {
   "cell_type": "code",
   "execution_count": 89,
   "id": "separate-maximum",
   "metadata": {},
   "outputs": [
    {
     "data": {
      "text/plain": [
       "tensor([[-1.6427, -1.5703, -0.3801],\n",
       "        [-1.5703, -1.4980, -0.3078],\n",
       "        [-0.3801, -0.3078,  0.8824]], grad_fn=<AddBackward0>)"
      ]
     },
     "execution_count": 89,
     "metadata": {},
     "output_type": "execute_result"
    }
   ],
   "source": [
    "bias  = co_bias.repeat(3,1) + co_bias.repeat(3,1).transpose(0,1)\n",
    "bias"
   ]
  },
  {
   "cell_type": "code",
   "execution_count": 91,
   "id": "seventh-exhaust",
   "metadata": {},
   "outputs": [
    {
     "data": {
      "text/plain": [
       "array([[0.5, 1. , 1. ],\n",
       "       [1. , 1. , 1. ],\n",
       "       [1. , 1. , 0.5]])"
      ]
     },
     "execution_count": 91,
     "metadata": {},
     "output_type": "execute_result"
    }
   ],
   "source": [
    "weight = np.clip(co_matrix/2,a_min=0, a_max=1.0)\n",
    "weight"
   ]
  },
  {
   "cell_type": "code",
   "execution_count": 97,
   "id": "scheduled-salem",
   "metadata": {},
   "outputs": [
    {
     "data": {
      "text/plain": [
       "tensor([[ 3.3151, 26.9983,  6.4393],\n",
       "        [26.9983,  0.9063, 25.6289],\n",
       "        [20.5896, 16.5039,  1.5369]], dtype=torch.float64,\n",
       "       grad_fn=<MulBackward0>)"
      ]
     },
     "execution_count": 97,
     "metadata": {},
     "output_type": "execute_result"
    }
   ],
   "source": [
    "loss = torch.tensor(weight) * ((embed_sim + bias - torch.tensor(co_matrix)).pow(2))\n",
    "loss"
   ]
  },
  {
   "cell_type": "code",
   "execution_count": 98,
   "id": "bored-phase",
   "metadata": {},
   "outputs": [
    {
     "data": {
      "text/plain": [
       "tensor(128.9166, dtype=torch.float64, grad_fn=<SumBackward0>)"
      ]
     },
     "execution_count": 98,
     "metadata": {},
     "output_type": "execute_result"
    }
   ],
   "source": [
    "torch.sum(loss)"
   ]
  },
  {
   "cell_type": "code",
   "execution_count": 99,
   "id": "collectible-casino",
   "metadata": {},
   "outputs": [
    {
     "data": {
      "text/plain": [
       "128.8"
      ]
     },
     "execution_count": 99,
     "metadata": {},
     "output_type": "execute_result"
    }
   ],
   "source": []
  },
  {
   "cell_type": "code",
   "execution_count": null,
   "id": "sufficient-secret",
   "metadata": {},
   "outputs": [],
   "source": []
  }
 ],
 "metadata": {
  "kernelspec": {
   "display_name": "myenv",
   "language": "python",
   "name": "myenv"
  },
  "language_info": {
   "codemirror_mode": {
    "name": "ipython",
    "version": 3
   },
   "file_extension": ".py",
   "mimetype": "text/x-python",
   "name": "python",
   "nbconvert_exporter": "python",
   "pygments_lexer": "ipython3",
   "version": "3.6.13"
  }
 },
 "nbformat": 4,
 "nbformat_minor": 5
}
