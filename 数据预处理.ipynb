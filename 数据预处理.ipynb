{
 "cells": [
  {
   "cell_type": "code",
   "execution_count": 1,
   "metadata": {},
   "outputs": [],
   "source": [
    "import json\n",
    "from collections import defaultdict"
   ]
  },
  {
   "cell_type": "markdown",
   "metadata": {},
   "source": [
    "##### 读取数据"
   ]
  },
  {
   "cell_type": "code",
   "execution_count": 2,
   "metadata": {},
   "outputs": [],
   "source": [
    "cate = 'Books'  #Amozon商品类别\n",
    "cut_len = 21   # 截断长度"
   ]
  },
  {
   "cell_type": "code",
   "execution_count": 3,
   "metadata": {},
   "outputs": [],
   "source": [
    "file_dict = defaultdict(list)\n",
    "with open('./Data/' + cate + '_5.json') as f:\n",
    "    for line in f.readlines():\n",
    "        dic = json.loads(line)\n",
    "        file_dict[dic['reviewerID']].append([dic['asin'], dic['unixReviewTime']])"
   ]
  },
  {
   "cell_type": "markdown",
   "metadata": {},
   "source": [
    "##### 数据分布"
   ]
  },
  {
   "cell_type": "code",
   "execution_count": 4,
   "metadata": {},
   "outputs": [],
   "source": [
    "import matplotlib.pyplot as plt"
   ]
  },
  {
   "cell_type": "code",
   "execution_count": 5,
   "metadata": {},
   "outputs": [],
   "source": [
    "interaction_before_truncation = 0\n",
    "x_list = list(range(5,cut_len+2)) # 5--cut_len, 大于cut_len\n",
    "y_list = [0]*len(x_list)\n",
    "for k, v in file_dict.items():\n",
    "    interaction_before_truncation += len(v)\n",
    "    if(len(v) <= cut_len):\n",
    "        y_list[len(v)-5] += 1\n",
    "    else:\n",
    "        y_list[-1] += 1"
   ]
  },
  {
   "cell_type": "code",
   "execution_count": 6,
   "metadata": {},
   "outputs": [
    {
     "data": {
      "image/png": "[encoded data removed]",
      "text/plain": [
       "<Figure size 1080x360 with 1 Axes>"
      ]
     },
     "metadata": {
      "needs_background": "light"
     },
     "output_type": "display_data"
    }
   ],
   "source": [
    "plt.figure(figsize=(15,5))\n",
    "plt.bar(x_list,y_list)\n",
    "x_tag = [str(x) for x in range(5,cut_len+1)]\n",
    "x_tag.append('>'+str(cut_len))\n",
    "plt.xticks(x_list, x_tag)\n",
    "plt.xlabel(\"seq len\")\n",
    "plt.ylabel(\"user num\")\n",
    "for x,y in zip(x_list, y_list):\n",
    "    plt.text(x, y+0.1, \"%d\"%y, ha='center', va='bottom', fontsize=10)\n",
    "plt.show()"
   ]
  },
  {
   "cell_type": "markdown",
   "metadata": {},
   "source": [
    "##### 截断"
   ]
  },
  {
   "cell_type": "code",
   "execution_count": 7,
   "metadata": {},
   "outputs": [],
   "source": [
    "'''按时间排序'''\n",
    "for k, v in file_dict.items():\n",
    "    v.sort(key = lambda x: x[1])\n",
    "'''取item项，并截断至cut_len'''\n",
    "file_list = []\n",
    "for k,v in file_dict.items():\n",
    "    file_list.append([x[0] for x in v][:cut_len])      \n",
    "'''item to id'''\n",
    "item_set = set()\n",
    "for l in file_list:\n",
    "    item_set.update(l)\n",
    "item_to_id = dict(zip(item_set, range(len(item_set))))\n",
    "item2id_json = json.dumps(item_to_id)\n",
    "'''保存 item_id 对应关系'''\n",
    "with open('./Data/' + cate + '_item2id.json','w') as item2id_f:\n",
    "    item2id_f.write(item2id_json)"
   ]
  },
  {
   "cell_type": "code",
   "execution_count": 8,
   "metadata": {},
   "outputs": [],
   "source": [
    "'''得到 seq_list，并按长度排序'''\n",
    "seq_list = []\n",
    "for l in file_list:\n",
    "    seq_list.append([str(item_to_id[x])+' ' for x in l])\n",
    "seq_list.sort(key=len)"
   ]
  },
  {
   "cell_type": "code",
   "execution_count": 9,
   "metadata": {},
   "outputs": [],
   "source": [
    "'''统计 interaction_after_truncation'''\n",
    "interaction_after_truncation = 0\n",
    "for l in seq_list:\n",
    "    interaction_after_truncation += len(l)"
   ]
  },
  {
   "cell_type": "code",
   "execution_count": 10,
   "metadata": {},
   "outputs": [],
   "source": [
    "'''seq list 写入文件'''\n",
    "with open('./Data/' + cate + '_seqs.txt','w') as seqs_f:\n",
    "    for l in seq_list:\n",
    "        seqs_f.writelines(l)\n",
    "        seqs_f.write('\\r')"
   ]
  },
  {
   "cell_type": "markdown",
   "metadata": {},
   "source": [
    "##### Data_info.xlsx 中记录信息"
   ]
  },
  {
   "cell_type": "code",
   "execution_count": 11,
   "metadata": {},
   "outputs": [
    {
     "data": {
      "text/plain": [
       "(603668, 364315, 8898041, 5943529, 2954512)"
      ]
     },
     "execution_count": 11,
     "metadata": {},
     "output_type": "execute_result"
    }
   ],
   "source": [
    "len(seq_list), len(item_set), interaction_before_truncation, interaction_after_truncation, interaction_before_truncation-interaction_after_truncation"
   ]
  },
  {
   "cell_type": "code",
   "execution_count": null,
   "metadata": {},
   "outputs": [],
   "source": []
  },
  {
   "cell_type": "code",
   "execution_count": null,
   "metadata": {},
   "outputs": [],
   "source": []
  }
 ],
 "metadata": {
  "kernelspec": {
   "display_name": "Python 3",
   "language": "python",
   "name": "python3"
  },
  "language_info": {
   "codemirror_mode": {
    "name": "ipython",
    "version": 3
   },
   "file_extension": ".py",
   "mimetype": "text/x-python",
   "name": "python",
   "nbconvert_exporter": "python",
   "pygments_lexer": "ipython3",
   "version": "3.6.9"
  },
  "toc": {
   "base_numbering": 1,
   "nav_menu": {},
   "number_sections": true,
   "sideBar": true,
   "skip_h1_title": false,
   "title_cell": "Table of Contents",
   "title_sidebar": "Contents",
   "toc_cell": false,
   "toc_position": {},
   "toc_section_display": true,
   "toc_window_display": false
  },
  "varInspector": {
   "cols": {
    "lenName": 16,
    "lenType": 16,
    "lenVar": 40
   },
   "kernels_config": {
    "python": {
     "delete_cmd_postfix": "",
     "delete_cmd_prefix": "del ",
     "library": "var_list.py",
     "varRefreshCmd": "print(var_dic_list())"
    },
    "r": {
     "delete_cmd_postfix": ") ",
     "delete_cmd_prefix": "rm(",
     "library": "var_list.r",
     "varRefreshCmd": "cat(var_dic_list()) "
    }
   },
   "types_to_exclude": [
    "module",
    "function",
    "builtin_function_or_method",
    "instance",
    "_Feature"
   ],
   "window_display": false
  }
 },
 "nbformat": 4,
 "nbformat_minor": 4
}
