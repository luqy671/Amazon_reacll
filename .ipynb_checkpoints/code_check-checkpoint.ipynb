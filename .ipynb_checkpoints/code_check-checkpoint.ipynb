{
 "cells": [
  {
   "cell_type": "markdown",
   "id": "overhead-layer",
   "metadata": {
    "tags": []
   },
   "source": [
    "## 1. 初始化"
   ]
  },
  {
   "cell_type": "code",
   "execution_count": 1,
   "id": "familiar-authentication",
   "metadata": {
    "tags": []
   },
   "outputs": [],
   "source": [
    "import torch\n",
    "from torch.utils.data import Dataset, DataLoader, TensorDataset\n",
    "import numpy as np\n",
    "from collections import defaultdict\n",
    "from tqdm import tqdm\n",
    "import copy\n",
    "import csv\n",
    "from models import MyModel\n",
    "from Config import Config"
   ]
  },
  {
   "cell_type": "code",
   "execution_count": 2,
   "id": "green-recruitment",
   "metadata": {
    "tags": []
   },
   "outputs": [],
   "source": [
    "config = Config()\n",
    "config.datasetInfo()"
   ]
  },
  {
   "cell_type": "code",
   "execution_count": 3,
   "id": "attached-miracle",
   "metadata": {},
   "outputs": [
    {
     "name": "stdout",
     "output_type": "stream",
     "text": [
      "{'data_dir': '../data/', 'model_save_path': '../model_save/', 'ans_save_path': '../ans/', 'log_path': '../log/', 'Limit_Length': 1, 'company_cate': 'Kindle', 'test_cut': 20, 'item_num': 61479, 'model_name': 'Intere_Gene_v3', 'RNN': 'GRU', 'epochs': 100, 'batch_size': 128, 'lr': 0.005, 'L2': 0, 'embed_dim': 64, 'Gene_num': 5, 'intere_num': 2, 'sample_num': 10, 'N_list': [20, 50]}\n"
     ]
    }
   ],
   "source": [
    "print(config.__dict__)"
   ]
  },
  {
   "cell_type": "markdown",
   "id": "seeing-viewer",
   "metadata": {
    "tags": []
   },
   "source": [
    "## 2. Data Prepare"
   ]
  },
  {
   "cell_type": "markdown",
   "id": "stable-wisdom",
   "metadata": {},
   "source": [
    "### 2.1 Data_Read 函数"
   ]
  },
  {
   "cell_type": "code",
   "execution_count": 4,
   "id": "several-bloom",
   "metadata": {},
   "outputs": [],
   "source": [
    "seq_list = []\n",
    "with open(config.data_dir + config.company_cate + '_seqs.txt') as f:\n",
    "    for l in f.readlines():\n",
    "        seq_list.append([int(x) for x in l.split(' ')[:-1]])"
   ]
  },
  {
   "cell_type": "code",
   "execution_count": 5,
   "id": "atlantic-ballot",
   "metadata": {
    "tags": []
   },
   "outputs": [
    {
     "data": {
      "text/plain": [
       "([26857, 38756, 2890, 56212, 32623],\n",
       " [52290,\n",
       "  10836,\n",
       "  19684,\n",
       "  9247,\n",
       "  16521,\n",
       "  23660,\n",
       "  52317,\n",
       "  28657,\n",
       "  27311,\n",
       "  2788,\n",
       "  27206,\n",
       "  36572,\n",
       "  16541,\n",
       "  46923,\n",
       "  24831,\n",
       "  30613,\n",
       "  14332,\n",
       "  3499,\n",
       "  31264,\n",
       "  60597,\n",
       "  59879,\n",
       "  57199,\n",
       "  10612,\n",
       "  19182,\n",
       "  23795])"
      ]
     },
     "execution_count": 5,
     "metadata": {},
     "output_type": "execute_result"
    }
   ],
   "source": [
    "seq_list[0], seq_list[-1]"
   ]
  },
  {
   "cell_type": "code",
   "execution_count": 6,
   "id": "occupational-mount",
   "metadata": {
    "tags": []
   },
   "outputs": [],
   "source": [
    "seq_same_len_list = []\n",
    "now_len = -1\n",
    "for seq in seq_list:\n",
    "    if(len(seq) != now_len):\n",
    "        if(now_len != -1):\n",
    "            seq_same_len_list.append(np.array(seq_same_len))\n",
    "        now_len = len(seq)\n",
    "        seq_same_len = []\n",
    "        seq_same_len.append(seq)\n",
    "    else:\n",
    "        seq_same_len.append(seq)\n",
    "test_data = np.array(seq_same_len)"
   ]
  },
  {
   "cell_type": "code",
   "execution_count": 7,
   "id": "elect-parcel",
   "metadata": {},
   "outputs": [
    {
     "data": {
      "text/plain": [
       "(20, 15382, (7797, 25))"
      ]
     },
     "execution_count": 7,
     "metadata": {},
     "output_type": "execute_result"
    }
   ],
   "source": [
    "len(seq_same_len_list),len(seq_same_len_list[0]),test_data.shape"
   ]
  },
  {
   "cell_type": "code",
   "execution_count": 8,
   "id": "loaded-pioneer",
   "metadata": {},
   "outputs": [
    {
     "data": {
      "text/plain": [
       "((7797, 20), (7797, 5))"
      ]
     },
     "execution_count": 8,
     "metadata": {},
     "output_type": "execute_result"
    }
   ],
   "source": [
    "test_data[:,:config.test_cut].shape, test_data[:, config.test_cut:].shape"
   ]
  },
  {
   "cell_type": "code",
   "execution_count": 9,
   "id": "ready-clark",
   "metadata": {
    "tags": []
   },
   "outputs": [
    {
     "data": {
      "text/plain": [
       "array([[26857, 38756,  2890, 56212, 32623],\n",
       "       [ 2890, 47381, 25909, 54540,   163],\n",
       "       [34817, 47381, 53835, 37920, 25569],\n",
       "       ...,\n",
       "       [48381, 61265, 39380, 12047, 20700],\n",
       "       [53067, 56760, 48341, 38942, 12586],\n",
       "       [21661, 47558, 33344, 53019, 56818]])"
      ]
     },
     "execution_count": 9,
     "metadata": {},
     "output_type": "execute_result"
    }
   ],
   "source": [
    "seq_same_len_list[0]"
   ]
  },
  {
   "cell_type": "code",
   "execution_count": 10,
   "id": "pretty-essence",
   "metadata": {
    "tags": []
   },
   "outputs": [
    {
     "data": {
      "text/plain": [
       "array([[51361, 49319, 32254, ...,  5354, 50019, 19887],\n",
       "       [20329,  1320, 26210, ...,  7466, 36455, 15126],\n",
       "       [24387,  5189, 47381, ..., 25867,  7922, 60069],\n",
       "       ...,\n",
       "       [ 3690, 52936, 30926, ..., 12943, 60597, 51966],\n",
       "       [43537,  3195, 40925, ..., 21659, 20676, 49718],\n",
       "       [52290, 10836, 19684, ..., 10612, 19182, 23795]])"
      ]
     },
     "execution_count": 10,
     "metadata": {},
     "output_type": "execute_result"
    }
   ],
   "source": [
    "test_data"
   ]
  },
  {
   "cell_type": "code",
   "execution_count": 11,
   "id": "violent-swiss",
   "metadata": {},
   "outputs": [],
   "source": [
    "from utils import train_test,Data_Read\n",
    "train_lists, test_x, test_y = Data_Read(config)"
   ]
  },
  {
   "cell_type": "code",
   "execution_count": 12,
   "id": "colonial-enough",
   "metadata": {},
   "outputs": [
    {
     "data": {
      "text/plain": [
       "(20, 15382, (7797, 20), (7797, 5))"
      ]
     },
     "execution_count": 12,
     "metadata": {},
     "output_type": "execute_result"
    }
   ],
   "source": [
    "len(train_lists),len(train_lists[0]), test_x.shape, test_y.shape"
   ]
  },
  {
   "cell_type": "code",
   "execution_count": 13,
   "id": "small-priest",
   "metadata": {
    "tags": []
   },
   "outputs": [
    {
     "data": {
      "text/plain": [
       "array([[26857, 38756,  2890, 56212, 32623],\n",
       "       [ 2890, 47381, 25909, 54540,   163],\n",
       "       [34817, 47381, 53835, 37920, 25569],\n",
       "       ...,\n",
       "       [48381, 61265, 39380, 12047, 20700],\n",
       "       [53067, 56760, 48341, 38942, 12586],\n",
       "       [21661, 47558, 33344, 53019, 56818]])"
      ]
     },
     "execution_count": 13,
     "metadata": {},
     "output_type": "execute_result"
    }
   ],
   "source": [
    "train_lists[0]"
   ]
  },
  {
   "cell_type": "code",
   "execution_count": 14,
   "id": "other-antenna",
   "metadata": {
    "tags": []
   },
   "outputs": [
    {
     "data": {
      "text/plain": [
       "array([[26415,  6177,  4485, ..., 42777, 35018, 48188],\n",
       "       [45741, 39767, 39417, ..., 46120, 35742, 30753],\n",
       "       [46120, 25664, 37315, ...,   653, 51383, 20953],\n",
       "       ...,\n",
       "       [17878, 20443,  5435, ..., 22989,  3301, 59808],\n",
       "       [21901,  8519, 58722, ..., 32897,  8620, 31458],\n",
       "       [36118, 56632, 60476, ..., 43454, 55925, 37507]])"
      ]
     },
     "execution_count": 14,
     "metadata": {},
     "output_type": "execute_result"
    }
   ],
   "source": [
    "train_lists[-1]"
   ]
  },
  {
   "cell_type": "code",
   "execution_count": 15,
   "id": "referenced-bryan",
   "metadata": {
    "tags": []
   },
   "outputs": [
    {
     "data": {
      "text/plain": [
       "array([[51361, 49319, 32254, ..., 13127, 33966, 55354],\n",
       "       [20329,  1320, 26210, ..., 28312, 21346, 27659],\n",
       "       [24387,  5189, 47381, ..., 48879, 21098, 22391],\n",
       "       ...,\n",
       "       [ 3690, 52936, 30926, ..., 39188, 46923,  9548],\n",
       "       [43537,  3195, 40925, ..., 27772, 45132, 24950],\n",
       "       [52290, 10836, 19684, ...,  3499, 31264, 60597]])"
      ]
     },
     "execution_count": 15,
     "metadata": {},
     "output_type": "execute_result"
    }
   ],
   "source": [
    "test_x"
   ]
  },
  {
   "cell_type": "code",
   "execution_count": 16,
   "id": "loving-familiar",
   "metadata": {
    "tags": []
   },
   "outputs": [
    {
     "data": {
      "text/plain": [
       "array([[15376, 43891,  5354, 50019, 19887],\n",
       "       [ 6795, 47120,  7466, 36455, 15126],\n",
       "       [24548, 54247, 25867,  7922, 60069],\n",
       "       ...,\n",
       "       [ 7148,  3499, 12943, 60597, 51966],\n",
       "       [16277, 32597, 21659, 20676, 49718],\n",
       "       [59879, 57199, 10612, 19182, 23795]])"
      ]
     },
     "execution_count": 16,
     "metadata": {},
     "output_type": "execute_result"
    }
   ],
   "source": [
    "test_y"
   ]
  },
  {
   "cell_type": "markdown",
   "id": "quality-preference",
   "metadata": {},
   "source": [
    "### 2.2 Data to Tensor"
   ]
  },
  {
   "cell_type": "code",
   "execution_count": 17,
   "id": "asian-adams",
   "metadata": {},
   "outputs": [],
   "source": [
    "train_loader_list = []\n",
    "for train_data in train_lists:\n",
    "    train_set = TensorDataset(torch.tensor(train_data))\n",
    "    train_loader = DataLoader(dataset=train_set, batch_size=config.batch_size,\n",
    "                          shuffle=True, num_workers=0)\n",
    "    train_loader_list.append(train_loader)\n",
    "test_set = TensorDataset(torch.tensor(test_x), torch.tensor(test_y))\n",
    "test_loader = DataLoader(dataset=test_set, batch_size=config.batch_size,\n",
    "                          shuffle=False, num_workers=0)"
   ]
  },
  {
   "cell_type": "code",
   "execution_count": 18,
   "id": "cheap-europe",
   "metadata": {},
   "outputs": [
    {
     "data": {
      "text/plain": [
       "20"
      ]
     },
     "execution_count": 18,
     "metadata": {},
     "output_type": "execute_result"
    }
   ],
   "source": [
    "len(train_loader_list)"
   ]
  },
  {
   "cell_type": "code",
   "execution_count": 19,
   "id": "superb-chambers",
   "metadata": {
    "tags": []
   },
   "outputs": [
    {
     "name": "stdout",
     "output_type": "stream",
     "text": [
      "torch.Size([128, 5])\n"
     ]
    }
   ],
   "source": [
    "for train_loader in train_loader_list:\n",
    "    for data in train_loader:\n",
    "        data = data[0].cuda() \n",
    "        print(data.shape)\n",
    "        break\n",
    "    break"
   ]
  },
  {
   "cell_type": "code",
   "execution_count": 20,
   "id": "rough-pioneer",
   "metadata": {},
   "outputs": [
    {
     "name": "stdout",
     "output_type": "stream",
     "text": [
      "torch.Size([128, 20])\n",
      "(128, 5)\n"
     ]
    }
   ],
   "source": [
    "for x, y in test_loader:\n",
    "    x = x.cuda()\n",
    "    y = y.numpy()\n",
    "    print(x.shape)\n",
    "    print(y.shape)\n",
    "    break"
   ]
  },
  {
   "cell_type": "markdown",
   "id": "challenging-stocks",
   "metadata": {},
   "source": [
    "## 3. my model check"
   ]
  },
  {
   "cell_type": "markdown",
   "id": "treated-victim",
   "metadata": {},
   "source": [
    "### 3.1 forward"
   ]
  },
  {
   "cell_type": "code",
   "execution_count": 21,
   "id": "pursuant-punch",
   "metadata": {},
   "outputs": [
    {
     "data": {
      "text/plain": [
       "tensor([[38258,  1993,   652,  8098, 59230],\n",
       "        [ 7167, 26937, 15396,  1652, 55255],\n",
       "        [41237, 49157, 10593, 48018, 42831],\n",
       "        [39128,  8456, 46274, 38099, 56464],\n",
       "        [19890, 42855, 31073, 33238, 19725],\n",
       "        [32565, 14034, 14468, 17922, 41487],\n",
       "        [25854, 42758, 51168, 14620, 60197],\n",
       "        [37026, 24005, 30473, 47271, 21785],\n",
       "        [  990,  9687, 25889, 50720,  5741],\n",
       "        [52858, 20594, 49426, 27553, 57747]], device='cuda:0')"
      ]
     },
     "execution_count": 21,
     "metadata": {},
     "output_type": "execute_result"
    }
   ],
   "source": [
    "for train_loader in train_loader_list:\n",
    "    for data in train_loader:\n",
    "        data = data[0].cuda() \n",
    "        check_data = data[:10,:]\n",
    "        break\n",
    "    break\n",
    "check_data"
   ]
  },
  {
   "cell_type": "code",
   "execution_count": 22,
   "id": "mighty-invention",
   "metadata": {
    "tags": []
   },
   "outputs": [
    {
     "name": "stdout",
     "output_type": "stream",
     "text": [
      "tensor([[38258],\n",
      "        [ 7167],\n",
      "        [41237],\n",
      "        [39128],\n",
      "        [19890],\n",
      "        [32565],\n",
      "        [25854],\n",
      "        [37026],\n",
      "        [  990],\n",
      "        [52858]], device='cuda:0') tensor([[ 1993],\n",
      "        [26937],\n",
      "        [49157],\n",
      "        [ 8456],\n",
      "        [42855],\n",
      "        [14034],\n",
      "        [42758],\n",
      "        [24005],\n",
      "        [ 9687],\n",
      "        [20594]], device='cuda:0')\n",
      "tensor([[38258,  1993],\n",
      "        [ 7167, 26937],\n",
      "        [41237, 49157],\n",
      "        [39128,  8456],\n",
      "        [19890, 42855],\n",
      "        [32565, 14034],\n",
      "        [25854, 42758],\n",
      "        [37026, 24005],\n",
      "        [  990,  9687],\n",
      "        [52858, 20594]], device='cuda:0') tensor([[  652],\n",
      "        [15396],\n",
      "        [10593],\n",
      "        [46274],\n",
      "        [31073],\n",
      "        [14468],\n",
      "        [51168],\n",
      "        [30473],\n",
      "        [25889],\n",
      "        [49426]], device='cuda:0')\n",
      "tensor([[38258,  1993,   652],\n",
      "        [ 7167, 26937, 15396],\n",
      "        [41237, 49157, 10593],\n",
      "        [39128,  8456, 46274],\n",
      "        [19890, 42855, 31073],\n",
      "        [32565, 14034, 14468],\n",
      "        [25854, 42758, 51168],\n",
      "        [37026, 24005, 30473],\n",
      "        [  990,  9687, 25889],\n",
      "        [52858, 20594, 49426]], device='cuda:0') tensor([[ 8098],\n",
      "        [ 1652],\n",
      "        [48018],\n",
      "        [38099],\n",
      "        [33238],\n",
      "        [17922],\n",
      "        [14620],\n",
      "        [47271],\n",
      "        [50720],\n",
      "        [27553]], device='cuda:0')\n",
      "tensor([[38258,  1993,   652,  8098],\n",
      "        [ 7167, 26937, 15396,  1652],\n",
      "        [41237, 49157, 10593, 48018],\n",
      "        [39128,  8456, 46274, 38099],\n",
      "        [19890, 42855, 31073, 33238],\n",
      "        [32565, 14034, 14468, 17922],\n",
      "        [25854, 42758, 51168, 14620],\n",
      "        [37026, 24005, 30473, 47271],\n",
      "        [  990,  9687, 25889, 50720],\n",
      "        [52858, 20594, 49426, 27553]], device='cuda:0') tensor([[59230],\n",
      "        [55255],\n",
      "        [42831],\n",
      "        [56464],\n",
      "        [19725],\n",
      "        [41487],\n",
      "        [60197],\n",
      "        [21785],\n",
      "        [ 5741],\n",
      "        [57747]], device='cuda:0')\n"
     ]
    }
   ],
   "source": [
    "seqs = check_data\n",
    "seqs = seqs.long()\n",
    "seq_l = seqs.size()[1]\n",
    "loss = 0\n",
    "for i in range(1,seq_l):\n",
    "    print(seqs[:, :i], end=\" \")\n",
    "    print(seqs[:, i].view(-1,1))"
   ]
  },
  {
   "cell_type": "code",
   "execution_count": 23,
   "id": "seventh-miracle",
   "metadata": {},
   "outputs": [
    {
     "name": "stdout",
     "output_type": "stream",
     "text": [
      "Limit_Length: 1\n"
     ]
    },
    {
     "data": {
      "text/plain": [
       "(torch.Size([10, 4]), torch.Size([10]))"
      ]
     },
     "execution_count": 23,
     "metadata": {},
     "output_type": "execute_result"
    }
   ],
   "source": [
    "model = MyModel.MyModel_v3(config).cuda()\n",
    "seqs[:, :i].shape,seqs[:, i].shape"
   ]
  },
  {
   "cell_type": "code",
   "execution_count": 24,
   "id": "recorded-chinese",
   "metadata": {},
   "outputs": [
    {
     "data": {
      "text/plain": [
       "(torch.Size([10, 4, 64]), torch.Size([10, 64]))"
      ]
     },
     "execution_count": 24,
     "metadata": {},
     "output_type": "execute_result"
    }
   ],
   "source": [
    "target = model.norm_embed(seqs[:, i].view(-1,1)).squeeze(1)\n",
    "seq_embed = model.norm_embed(seqs[:, :i])\n",
    "seq_embed.shape,target.shape"
   ]
  },
  {
   "cell_type": "code",
   "execution_count": 25,
   "id": "light-reference",
   "metadata": {},
   "outputs": [
    {
     "data": {
      "text/plain": [
       "tensor([[[0.3333, 0.6667, 0.6667],\n",
       "         [0.7715, 0.1543, 0.6172]],\n",
       "\n",
       "        [[0.5774, 0.5774, 0.5774],\n",
       "         [0.3333, 0.6667, 0.6667]]])"
      ]
     },
     "execution_count": 25,
     "metadata": {},
     "output_type": "execute_result"
    }
   ],
   "source": [
    "# norm\n",
    "a = torch.Tensor([[[1,2,2],[5,1,4]],\n",
    "                  [[3,3,3],[2,4,4]]])\n",
    "norm_dim = a.ndim -1\n",
    "norm2 = torch.norm(a, dim=norm_dim).unsqueeze(dim=norm_dim)\n",
    "norm_embed = a/norm2\n",
    "norm_embed"
   ]
  },
  {
   "cell_type": "code",
   "execution_count": 26,
   "id": "preliminary-silicon",
   "metadata": {},
   "outputs": [
    {
     "name": "stdout",
     "output_type": "stream",
     "text": [
      "tensor([[6., 4., 4., 2., 1.],\n",
      "        [8., 5., 5., 3., 1.],\n",
      "        [8., 7., 6., 1., 0.]])\n",
      "tensor([[1, 0, 3, 2, 4],\n",
      "        [3, 1, 2, 4, 0],\n",
      "        [1, 3, 2, 4, 0]])\n",
      "tensor([[6., 4.],\n",
      "        [8., 5.],\n",
      "        [8., 7.]])\n",
      "tensor([[1, 0],\n",
      "        [3, 1],\n",
      "        [1, 3]])\n"
     ]
    }
   ],
   "source": [
    "# 排序\n",
    "a = torch.Tensor([[4,6,2,4,1],\n",
    "                  [1,5,5,8,3],\n",
    "                  [0,8,6,7,1]])\n",
    "sorted_score, indices = torch.sort(a, descending = True)\n",
    "print(sorted_score)\n",
    "print(indices)\n",
    "k = 2\n",
    "print(sorted_score[:, : k])\n",
    "print(indices[:, : k])"
   ]
  },
  {
   "cell_type": "code",
   "execution_count": 27,
   "id": "statewide-experiment",
   "metadata": {},
   "outputs": [
    {
     "data": {
      "text/plain": [
       "(tensor([[0.6406, 0.2562, 0.1474, 0.3699, 0.3997, 0.5309],\n",
       "         [0.9970, 0.6462, 0.2979, 0.1232, 0.9143, 0.3807],\n",
       "         [0.1766, 0.3699, 0.9548, 0.7025, 0.3684, 0.2082],\n",
       "         [0.6290, 0.0683, 0.8407, 0.8540, 0.3092, 0.4891],\n",
       "         [0.9092, 0.7624, 0.6666, 0.1694, 0.0898, 0.1644],\n",
       "         [0.9086, 0.8016, 0.6909, 0.2247, 0.0080, 0.7036],\n",
       "         [0.7063, 0.7289, 0.1617, 0.7888, 0.8317, 0.1159],\n",
       "         [0.2728, 0.2254, 0.6025, 0.3270, 0.9142, 0.0362],\n",
       "         [0.5236, 0.0572, 0.6202, 0.2036, 0.0595, 0.1567],\n",
       "         [0.7593, 0.9932, 0.6939, 0.9990, 0.6833, 0.1400]]),\n",
       " tensor([[[0.9970, 0.6462, 0.2979, 0.1232, 0.9143, 0.3807],\n",
       "          [0.6406, 0.2562, 0.1474, 0.3699, 0.3997, 0.5309]],\n",
       " \n",
       "         [[0.6290, 0.0683, 0.8407, 0.8540, 0.3092, 0.4891],\n",
       "          [0.9970, 0.6462, 0.2979, 0.1232, 0.9143, 0.3807]],\n",
       " \n",
       "         [[0.9970, 0.6462, 0.2979, 0.1232, 0.9143, 0.3807],\n",
       "          [0.6290, 0.0683, 0.8407, 0.8540, 0.3092, 0.4891]]]))"
      ]
     },
     "execution_count": 27,
     "metadata": {},
     "output_type": "execute_result"
    }
   ],
   "source": [
    "# 取top k \n",
    "b = torch.rand([10,6])\n",
    "b,b[indices[:, : k]]"
   ]
  },
  {
   "cell_type": "code",
   "execution_count": 28,
   "id": "pursuant-magic",
   "metadata": {},
   "outputs": [
    {
     "data": {
      "text/plain": [
       "torch.Size([10, 2, 64])"
      ]
     },
     "execution_count": 28,
     "metadata": {},
     "output_type": "execute_result"
    }
   ],
   "source": [
    "intere_vec = model.Intere_build(seq_embed)\n",
    "intere_vec.shape"
   ]
  },
  {
   "cell_type": "code",
   "execution_count": 29,
   "id": "lesbian-theta",
   "metadata": {},
   "outputs": [
    {
     "name": "stdout",
     "output_type": "stream",
     "text": [
      "tensor([[-0.0023, -0.1973],\n",
      "        [ 0.2794, -0.2761],\n",
      "        [ 0.1953, -0.1099],\n",
      "        [-0.0826,  0.0602],\n",
      "        [ 0.0950, -0.1619],\n",
      "        [-0.3732, -0.0635],\n",
      "        [ 0.1516, -0.0324],\n",
      "        [ 0.0642, -0.0918],\n",
      "        [-0.0392, -0.2410],\n",
      "        [-0.0688, -0.0478]], device='cuda:0', grad_fn=<ViewBackward>)\n",
      "tensor([0, 0, 0, 1, 0, 1, 0, 0, 0, 1], device='cuda:0')\n"
     ]
    }
   ],
   "source": [
    "sim_score = torch.einsum('ijk, ik ->ij', intere_vec, target)\n",
    "print(sim_score)\n",
    "hitted_idx = torch.argmax(sim_score, dim=1)\n",
    "print(hitted_idx)"
   ]
  },
  {
   "cell_type": "code",
   "execution_count": 45,
   "id": "round-documentation",
   "metadata": {},
   "outputs": [
    {
     "data": {
      "text/plain": [
       "torch.Size([10, 64])"
      ]
     },
     "execution_count": 45,
     "metadata": {},
     "output_type": "execute_result"
    }
   ],
   "source": [
    "hitted_intere = torch.cat([intere_vec[a,b,:] for a,b in enumerate(hitted_idx)], dim=0).reshape(-1,config.embed_dim)\n",
    "hitted_intere.shape"
   ]
  },
  {
   "cell_type": "code",
   "execution_count": 43,
   "id": "demanding-replica",
   "metadata": {},
   "outputs": [
    {
     "data": {
      "text/plain": [
       "tensor([[ 0.1469,  0.2472, -0.0587, -0.3052, -0.2368, -0.1733,  0.0797,  0.1509,\n",
       "         -0.2686,  0.0322,  0.2282, -0.0112, -0.4906, -0.0556, -0.2007, -0.0212,\n",
       "          0.0587,  0.0266, -0.0933,  0.0843,  0.2362, -0.0322, -0.2928,  0.3734,\n",
       "         -0.0745,  0.1271, -0.0202, -0.2197, -0.1116, -0.0215,  0.2085,  0.3199,\n",
       "         -0.0434,  0.1350, -0.0099,  0.1817,  0.2841,  0.2493, -0.0403, -0.1067,\n",
       "          0.0671,  0.2160, -0.1430, -0.1628,  0.0406,  0.0605,  0.0698,  0.3090,\n",
       "          0.0247, -0.1265,  0.2403,  0.1522,  0.0713,  0.0695,  0.1366, -0.1965,\n",
       "          0.2148,  0.3172,  0.1710, -0.2602,  0.3745,  0.3409, -0.2023,  0.0726],\n",
       "        [-0.1686,  0.1058, -0.0748,  0.2072,  0.1684,  0.0495, -0.0629, -0.0117,\n",
       "         -0.3048,  0.1408,  0.0721, -0.1617,  0.0210, -0.1800,  0.0326, -0.0897,\n",
       "          0.2008,  0.1607, -0.1658,  0.1930, -0.0112,  0.2003,  0.1588, -0.0996,\n",
       "          0.3555, -0.2464,  0.0223,  0.2167, -0.3909, -0.3345,  0.1470, -0.0416,\n",
       "         -0.2874, -0.0542,  0.1667,  0.0954,  0.0755, -0.0903,  0.1931,  0.2387,\n",
       "         -0.1917,  0.1423,  0.2058, -0.0148,  0.0142, -0.1943, -0.0568, -0.1332,\n",
       "          0.0354, -0.5017,  0.0989, -0.1871, -0.0253, -0.1773, -0.2456,  0.1785,\n",
       "          0.1583, -0.4423,  0.0202,  0.1568,  0.1037,  0.2116,  0.0719,  0.0997]],\n",
       "       device='cuda:0', grad_fn=<SelectBackward>)"
      ]
     },
     "execution_count": 43,
     "metadata": {},
     "output_type": "execute_result"
    }
   ],
   "source": [
    "intere_vec[3]"
   ]
  },
  {
   "cell_type": "code",
   "execution_count": 44,
   "id": "acute-field",
   "metadata": {},
   "outputs": [
    {
     "data": {
      "text/plain": [
       "tensor([-0.1686,  0.1058, -0.0748,  0.2072,  0.1684,  0.0495, -0.0629, -0.0117,\n",
       "        -0.3048,  0.1408,  0.0721, -0.1617,  0.0210, -0.1800,  0.0326, -0.0897,\n",
       "         0.2008,  0.1607, -0.1658,  0.1930, -0.0112,  0.2003,  0.1588, -0.0996,\n",
       "         0.3555, -0.2464,  0.0223,  0.2167, -0.3909, -0.3345,  0.1470, -0.0416,\n",
       "        -0.2874, -0.0542,  0.1667,  0.0954,  0.0755, -0.0903,  0.1931,  0.2387,\n",
       "        -0.1917,  0.1423,  0.2058, -0.0148,  0.0142, -0.1943, -0.0568, -0.1332,\n",
       "         0.0354, -0.5017,  0.0989, -0.1871, -0.0253, -0.1773, -0.2456,  0.1785,\n",
       "         0.1583, -0.4423,  0.0202,  0.1568,  0.1037,  0.2116,  0.0719,  0.0997],\n",
       "       device='cuda:0', grad_fn=<SelectBackward>)"
      ]
     },
     "execution_count": 44,
     "metadata": {},
     "output_type": "execute_result"
    }
   ],
   "source": [
    "hitted_intere[3]"
   ]
  },
  {
   "cell_type": "code",
   "execution_count": 46,
   "id": "verified-integral",
   "metadata": {},
   "outputs": [
    {
     "data": {
      "text/plain": [
       "torch.Size([10])"
      ]
     },
     "execution_count": 46,
     "metadata": {},
     "output_type": "execute_result"
    }
   ],
   "source": [
    "pos_score = torch.einsum('ij, ij ->i', target, hitted_intere)\n",
    "pos_score.shape"
   ]
  },
  {
   "cell_type": "code",
   "execution_count": 58,
   "id": "baking-philippines",
   "metadata": {
    "tags": []
   },
   "outputs": [
    {
     "data": {
      "text/plain": [
       "tensor([[ 0.1427, -0.0008,  0.1273, -0.1110, -0.1257, -0.1071,  0.0838, -0.1052,\n",
       "          0.4268,  0.1192],\n",
       "        [-0.0778, -0.0651, -0.0832,  0.2311,  0.1676,  0.0771, -0.0279,  0.0747,\n",
       "          0.1154,  0.1517],\n",
       "        [ 0.0647,  0.1567, -0.1053,  0.1169,  0.0396, -0.0884, -0.2140,  0.0896,\n",
       "          0.0087,  0.0469],\n",
       "        [-0.0910,  0.0352, -0.1142, -0.5323, -0.2395, -0.0663, -0.1132, -0.1193,\n",
       "          0.2054,  0.1594],\n",
       "        [-0.0759,  0.2183,  0.2395,  0.2519, -0.1539, -0.2052, -0.1295, -0.0921,\n",
       "          0.1547,  0.0282],\n",
       "        [-0.2316, -0.1717,  0.0292,  0.3160,  0.0847, -0.2370,  0.1535,  0.1466,\n",
       "         -0.1544,  0.0116],\n",
       "        [-0.0751, -0.0358, -0.0306, -0.2706,  0.0469,  0.2388,  0.1697, -0.2440,\n",
       "          0.1092,  0.2243],\n",
       "        [ 0.1421,  0.0424, -0.1332,  0.0754, -0.0183,  0.0221,  0.0203, -0.1897,\n",
       "         -0.1040, -0.1938],\n",
       "        [-0.1444, -0.0130, -0.0337, -0.1452,  0.0597,  0.0014,  0.0196,  0.0114,\n",
       "         -0.1330,  0.0346],\n",
       "        [-0.1474,  0.0135,  0.1006, -0.0770, -0.2387,  0.1417,  0.0627, -0.0662,\n",
       "         -0.0975, -0.1974]], device='cuda:0', grad_fn=<ViewBackward>)"
      ]
     },
     "execution_count": 58,
     "metadata": {},
     "output_type": "execute_result"
    }
   ],
   "source": [
    "neg_sample = model.Neg_sample(seqs) #[batch, sample_num, embed_dim] \n",
    "neg_score = torch.einsum('ijk, ik -> ij', neg_sample, hitted_intere) #[batch, sample_num]\n",
    "neg_score"
   ]
  },
  {
   "cell_type": "code",
   "execution_count": 59,
   "id": "administrative-translator",
   "metadata": {},
   "outputs": [],
   "source": [
    "max_v, max_idx = torch.max(neg_score, 1)\n",
    "max_v_expand = max_v.view(-1,1).expand(neg_score.shape[0], neg_score.shape[1])\n",
    "tmp = torch.log(torch.sum(torch.exp(neg_score-max_v_expand), dim=1))\n",
    "neg_score = max_v.view(-1,) + tmp #[batch]"
   ]
  },
  {
   "cell_type": "code",
   "execution_count": 61,
   "id": "preliminary-suite",
   "metadata": {},
   "outputs": [
    {
     "data": {
      "text/plain": [
       "(tensor([0.4268, 0.2311, 0.1567, 0.2054, 0.2519, 0.3160, 0.2388, 0.1421, 0.0597,\n",
       "         0.1417], device='cuda:0', grad_fn=<MaxBackward0>),\n",
       " tensor([8, 3, 1, 8, 3, 3, 5, 0, 4, 5], device='cuda:0'),\n",
       " tensor([[0.4268, 0.4268, 0.4268, 0.4268, 0.4268, 0.4268, 0.4268, 0.4268, 0.4268,\n",
       "          0.4268],\n",
       "         [0.2311, 0.2311, 0.2311, 0.2311, 0.2311, 0.2311, 0.2311, 0.2311, 0.2311,\n",
       "          0.2311],\n",
       "         [0.1567, 0.1567, 0.1567, 0.1567, 0.1567, 0.1567, 0.1567, 0.1567, 0.1567,\n",
       "          0.1567],\n",
       "         [0.2054, 0.2054, 0.2054, 0.2054, 0.2054, 0.2054, 0.2054, 0.2054, 0.2054,\n",
       "          0.2054],\n",
       "         [0.2519, 0.2519, 0.2519, 0.2519, 0.2519, 0.2519, 0.2519, 0.2519, 0.2519,\n",
       "          0.2519],\n",
       "         [0.3160, 0.3160, 0.3160, 0.3160, 0.3160, 0.3160, 0.3160, 0.3160, 0.3160,\n",
       "          0.3160],\n",
       "         [0.2388, 0.2388, 0.2388, 0.2388, 0.2388, 0.2388, 0.2388, 0.2388, 0.2388,\n",
       "          0.2388],\n",
       "         [0.1421, 0.1421, 0.1421, 0.1421, 0.1421, 0.1421, 0.1421, 0.1421, 0.1421,\n",
       "          0.1421],\n",
       "         [0.0597, 0.0597, 0.0597, 0.0597, 0.0597, 0.0597, 0.0597, 0.0597, 0.0597,\n",
       "          0.0597],\n",
       "         [0.1417, 0.1417, 0.1417, 0.1417, 0.1417, 0.1417, 0.1417, 0.1417, 0.1417,\n",
       "          0.1417]], device='cuda:0', grad_fn=<ExpandBackward>),\n",
       " tensor([1.9350, 2.1336, 2.1631, 2.0281, 2.0886, 1.9972, 2.0913, 2.1327, 2.2113,\n",
       "         2.1176], device='cuda:0', grad_fn=<LogBackward>),\n",
       " tensor([0.4268, 0.2311, 0.1567, 0.2054, 0.2519, 0.3160, 0.2388, 0.1421, 0.0597,\n",
       "         0.1417], device='cuda:0', grad_fn=<ViewBackward>))"
      ]
     },
     "execution_count": 61,
     "metadata": {},
     "output_type": "execute_result"
    }
   ],
   "source": [
    "max_v, max_idx, max_v_expand, tmp, max_v.view(-1,)"
   ]
  },
  {
   "cell_type": "markdown",
   "id": "systematic-manual",
   "metadata": {},
   "source": [
    "### 3.2 serving"
   ]
  },
  {
   "cell_type": "code",
   "execution_count": 66,
   "id": "identified-matthew",
   "metadata": {},
   "outputs": [],
   "source": [
    "import faiss"
   ]
  },
  {
   "cell_type": "code",
   "execution_count": 73,
   "id": "greatest-alcohol",
   "metadata": {},
   "outputs": [
    {
     "data": {
      "text/plain": [
       "(array([[[1., 4., 4.],\n",
       "         [2., 2., 4.]],\n",
       " \n",
       "        [[3., 1., 2.],\n",
       "         [2., 1., 0.]]], dtype=float32), array([[0., 4., 3.],\n",
       "        [4., 4., 1.],\n",
       "        [0., 0., 1.],\n",
       "        [3., 4., 0.],\n",
       "        [2., 4., 3.]], dtype=float32))"
      ]
     },
     "execution_count": 73,
     "metadata": {},
     "output_type": "execute_result"
    }
   ],
   "source": [
    "intere_vec = np.random.randint(0,5,[2,2,3]).astype('float32')\n",
    "item_embeds = np.random.randint(0,5,[5,3]).astype('float32')\n",
    "intere_vec, item_embeds"
   ]
  },
  {
   "cell_type": "code",
   "execution_count": 75,
   "id": "expected-press",
   "metadata": {},
   "outputs": [],
   "source": [
    "index = faiss.IndexFlatIP(item_embeds.shape[1])\n",
    "index.add(item_embeds)\n",
    "D_list = []\n",
    "I_list = []\n",
    "for vec_u in intere_vec :\n",
    "    D, I = index.search(vec_u, 2)\n",
    "    D_list.append(D)\n",
    "    I_list.append(I)"
   ]
  },
  {
   "cell_type": "code",
   "execution_count": 76,
   "id": "following-daily",
   "metadata": {},
   "outputs": [
    {
     "data": {
      "text/plain": [
       "[array([[30., 28.],\n",
       "        [24., 20.]], dtype=float32), array([[18., 16.],\n",
       "        [12., 10.]], dtype=float32)]"
      ]
     },
     "execution_count": 76,
     "metadata": {},
     "output_type": "execute_result"
    }
   ],
   "source": [
    "D_list"
   ]
  },
  {
   "cell_type": "code",
   "execution_count": 77,
   "id": "loved-shade",
   "metadata": {},
   "outputs": [
    {
     "data": {
      "text/plain": [
       "[array([[4, 0],\n",
       "        [4, 1]]), array([[1, 4],\n",
       "        [1, 3]])]"
      ]
     },
     "execution_count": 77,
     "metadata": {},
     "output_type": "execute_result"
    }
   ],
   "source": [
    "I_list"
   ]
  },
  {
   "cell_type": "code",
   "execution_count": 78,
   "id": "contemporary-anthony",
   "metadata": {},
   "outputs": [
    {
     "data": {
      "text/plain": [
       "([array([4, 0, 4, 1]), array([1, 4, 1, 3])],\n",
       " [array([30., 28., 24., 20.], dtype=float32),\n",
       "  array([18., 16., 12., 10.], dtype=float32)])"
      ]
     },
     "execution_count": 78,
     "metadata": {},
     "output_type": "execute_result"
    }
   ],
   "source": [
    "for items in I_list:\n",
    "    items.resize(items.shape[0]*items.shape[1])\n",
    "for ds in D_list:\n",
    "    ds.resize(ds.shape[0]*ds.shape[1])\n",
    "I_list, D_list"
   ]
  },
  {
   "cell_type": "code",
   "execution_count": 82,
   "id": "monetary-imagination",
   "metadata": {},
   "outputs": [
    {
     "name": "stdout",
     "output_type": "stream",
     "text": [
      "i : 0\n",
      "[(1, 20.0), (4, 24.0), (0, 28.0), (4, 30.0)]\n",
      "{1: 20.0, 4: 30.0, 0: 28.0}\n",
      "[(4, 30.0), (0, 28.0), (1, 20.0)]\n",
      "i : 1\n",
      "[(3, 10.0), (1, 12.0), (4, 16.0), (1, 18.0)]\n",
      "{3: 10.0, 1: 18.0, 4: 16.0}\n",
      "[(1, 18.0), (4, 16.0), (3, 10.0)]\n"
     ]
    }
   ],
   "source": [
    "user_topN = []\n",
    "for i in range(len(I_list)):\n",
    "    print(\"i : %d\"%i)\n",
    "    I_D = list(zip(I_list[i],D_list[i]))\n",
    "    I_D.sort(key= lambda k:k[1])\n",
    "    print(I_D)\n",
    "    ID_dict = dict(I_D)\n",
    "    print(ID_dict)\n",
    "    sort_ID = sorted(ID_dict.items(), key=lambda item:item[1],reverse=True)\n",
    "    print(sort_ID)\n",
    "    user_topN.append([x[0] for x in sort_ID][:2])"
   ]
  },
  {
   "cell_type": "code",
   "execution_count": 83,
   "id": "welsh-divorce",
   "metadata": {},
   "outputs": [
    {
     "data": {
      "text/plain": [
       "[[4, 0], [1, 4]]"
      ]
     },
     "execution_count": 83,
     "metadata": {},
     "output_type": "execute_result"
    }
   ],
   "source": [
    "user_topN"
   ]
  },
  {
   "cell_type": "code",
   "execution_count": 89,
   "id": "capable-charter",
   "metadata": {},
   "outputs": [
    {
     "data": {
      "text/plain": [
       "array([[1, 2, 3, 4, 5],\n",
       "       [1, 3, 4, 5, 6]])"
      ]
     },
     "execution_count": 89,
     "metadata": {},
     "output_type": "execute_result"
    }
   ],
   "source": [
    "y = np.array([[1,2,3,4,5],[1,3,4,5,6]])\n",
    "y"
   ]
  },
  {
   "cell_type": "code",
   "execution_count": 91,
   "id": "light-chess",
   "metadata": {},
   "outputs": [
    {
     "name": "stdout",
     "output_type": "stream",
     "text": [
      "i:   0    N:    1\n",
      "[4]\n",
      "0.2\n",
      "[4]\n",
      "True\n",
      "i:   1    N:    1\n",
      "[1]\n",
      "0.2\n",
      "[1]\n",
      "True\n",
      "i:   0    N:    2\n",
      "[4]\n",
      "0.2\n",
      "[4]\n",
      "True\n",
      "i:   1    N:    2\n",
      "[1 4]\n",
      "0.4\n",
      "[1 4]\n",
      "True\n"
     ]
    }
   ],
   "source": [
    "Recall = defaultdict(float)\n",
    "HitRate = defaultdict(float)\n",
    "recall_topN = np.array(user_topN)\n",
    "\n",
    "N_list = [1,2]\n",
    "for N in N_list:\n",
    "    this_N = recall_topN[:,:N]\n",
    "    for i in range(y.shape[0]):\n",
    "        print(\"i:   %d    N:    %d\"%(i,N))\n",
    "        recall_set = np.intersect1d(this_N[i],y[i])\n",
    "        recall_score = recall_set.shape[0]/y[i].shape[0]\n",
    "        Recall[N] += recall_score\n",
    "        hit_set = np.intersect1d(this_N[i],y[i])\n",
    "        hit_score = hit_set.shape[0]>0\n",
    "        HitRate[N] += hit_score\n",
    "        print(recall_set)\n",
    "        print(recall_score)\n",
    "        print(hit_set)\n",
    "        print(hit_score)"
   ]
  },
  {
   "cell_type": "code",
   "execution_count": 92,
   "id": "loose-prime",
   "metadata": {},
   "outputs": [
    {
     "data": {
      "text/plain": [
       "(defaultdict(float, {1: 0.4, 2: 0.6000000000000001}),\n",
       " defaultdict(float, {1: 2.0, 2: 2.0}))"
      ]
     },
     "execution_count": 92,
     "metadata": {},
     "output_type": "execute_result"
    }
   ],
   "source": [
    "Recall,HitRate"
   ]
  },
  {
   "cell_type": "code",
   "execution_count": null,
   "id": "closed-pound",
   "metadata": {},
   "outputs": [],
   "source": []
  },
  {
   "cell_type": "code",
   "execution_count": 93,
   "id": "modern-insertion",
   "metadata": {},
   "outputs": [
    {
     "data": {
      "text/plain": [
       "tensor([[[0.5270, 0.8626, 0.8379, 0.5092],\n",
       "         [0.6927, 0.6831, 0.3348, 0.1009],\n",
       "         [0.9919, 0.6129, 0.2638, 0.1594]],\n",
       "\n",
       "        [[0.9778, 0.4196, 0.0068, 0.1562],\n",
       "         [0.4633, 0.3086, 0.7959, 0.9994],\n",
       "         [0.6031, 0.2687, 0.3281, 0.1075]]])"
      ]
     },
     "execution_count": 93,
     "metadata": {},
     "output_type": "execute_result"
    }
   ],
   "source": [
    "a = torch.rand([2,3,4])\n",
    "a"
   ]
  },
  {
   "cell_type": "code",
   "execution_count": 95,
   "id": "joined-official",
   "metadata": {},
   "outputs": [],
   "source": [
    "import torch.nn.functional as F"
   ]
  },
  {
   "cell_type": "code",
   "execution_count": 96,
   "id": "divine-accessory",
   "metadata": {},
   "outputs": [
    {
     "data": {
      "text/plain": [
       "tensor([[[0.3892, 0.6090, 0.6966, 0.5874],\n",
       "         [0.5571, 0.5925, 0.3867, 0.2894],\n",
       "         [0.5960, 0.5852, 0.4839, 0.5130]],\n",
       "\n",
       "        [[0.6108, 0.3910, 0.3034, 0.4126],\n",
       "         [0.4429, 0.4075, 0.6133, 0.7106],\n",
       "         [0.4040, 0.4148, 0.5161, 0.4870]]])"
      ]
     },
     "execution_count": 96,
     "metadata": {},
     "output_type": "execute_result"
    }
   ],
   "source": [
    "F.softmax(a,dim=0)"
   ]
  },
  {
   "cell_type": "code",
   "execution_count": 100,
   "id": "latest-monster",
   "metadata": {},
   "outputs": [
    {
     "data": {
      "text/plain": [
       "1.0"
      ]
     },
     "execution_count": 100,
     "metadata": {},
     "output_type": "execute_result"
    }
   ],
   "source": [
    "0.3892+0.6108"
   ]
  },
  {
   "cell_type": "code",
   "execution_count": 97,
   "id": "frequent-official",
   "metadata": {},
   "outputs": [
    {
     "data": {
      "text/plain": [
       "tensor([[[0.2651, 0.3824, 0.4613, 0.4220],\n",
       "         [0.3129, 0.3196, 0.2789, 0.2805],\n",
       "         [0.4220, 0.2979, 0.2598, 0.2974]],\n",
       "\n",
       "        [[0.4376, 0.3630, 0.2183, 0.2338],\n",
       "         [0.2616, 0.3249, 0.4806, 0.5434],\n",
       "         [0.3008, 0.3122, 0.3011, 0.2227]]])"
      ]
     },
     "execution_count": 97,
     "metadata": {},
     "output_type": "execute_result"
    }
   ],
   "source": [
    "F.softmax(a,dim=1)"
   ]
  },
  {
   "cell_type": "code",
   "execution_count": 99,
   "id": "stopped-quarterly",
   "metadata": {},
   "outputs": [
    {
     "data": {
      "text/plain": [
       "1.0"
      ]
     },
     "execution_count": 99,
     "metadata": {},
     "output_type": "execute_result"
    }
   ],
   "source": [
    "0.2651+0.3129+0.4220"
   ]
  },
  {
   "cell_type": "code",
   "execution_count": 98,
   "id": "dirty-sustainability",
   "metadata": {},
   "outputs": [
    {
     "data": {
      "text/plain": [
       "tensor([[[0.2107, 0.2947, 0.2876, 0.2070],\n",
       "         [0.3084, 0.3054, 0.2156, 0.1706],\n",
       "         [0.3843, 0.2630, 0.1855, 0.1671]],\n",
       "\n",
       "        [[0.4183, 0.2394, 0.1584, 0.1839],\n",
       "         [0.2016, 0.1727, 0.2811, 0.3446],\n",
       "         [0.3242, 0.2321, 0.2462, 0.1975]]])"
      ]
     },
     "execution_count": 98,
     "metadata": {},
     "output_type": "execute_result"
    }
   ],
   "source": [
    "F.softmax(a,dim=2)"
   ]
  },
  {
   "cell_type": "code",
   "execution_count": 101,
   "id": "duplicate-rebate",
   "metadata": {},
   "outputs": [
    {
     "data": {
      "text/plain": [
       "1.0000000000000002"
      ]
     },
     "execution_count": 101,
     "metadata": {},
     "output_type": "execute_result"
    }
   ],
   "source": [
    "0.2107+0.2947+0.2876+0.2070"
   ]
  },
  {
   "cell_type": "code",
   "execution_count": null,
   "id": "integrated-ghost",
   "metadata": {},
   "outputs": [],
   "source": []
  }
 ],
 "metadata": {
  "kernelspec": {
   "display_name": "myenv",
   "language": "python",
   "name": "myenv"
  },
  "language_info": {
   "codemirror_mode": {
    "name": "ipython",
    "version": 3
   },
   "file_extension": ".py",
   "mimetype": "text/x-python",
   "name": "python",
   "nbconvert_exporter": "python",
   "pygments_lexer": "ipython3",
   "version": "3.6.13"
  }
 },
 "nbformat": 4,
 "nbformat_minor": 5
}
